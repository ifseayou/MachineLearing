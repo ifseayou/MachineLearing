{
 "cells": [
  {
   "cell_type": "markdown",
   "metadata": {},
   "source": [
    "# KNN基础\n",
    "\n",
    "> KNN,K-Nearest Neighbors 算法的中文名叫K近邻算法，KNN算法的思想非常简单，应用的数学知识简直没有，但是效果却出奇的好，接下来，来一起看看这个算法长什么样子\n",
    "\n",
    "#### 图解\n",
    "![title](img/isea1.png)\n",
    "\n",
    "#### 算法思想\n",
    "\n",
    ">这里肿瘤大小+时间都是特征，颜色是标签，如果新来了一个蓝色的肿瘤，我们如何判断该肿瘤是良性还是恶性？这里计算蓝色的点和所有的点的距离大小，然后排序，取出距离最近的K个点，最近的K个点的标签，进行投票，来决定新进来的肿瘤是良性还是恶性。\n"
   ]
  },
  {
   "cell_type": "code",
   "execution_count": 4,
   "metadata": {},
   "outputs": [],
   "source": [
    "import numpy as np\n",
    "import matplotlib.pyplot as plt"
   ]
  },
  {
   "cell_type": "code",
   "execution_count": 18,
   "metadata": {},
   "outputs": [],
   "source": [
    "row_data_X = [[3.390902,2.339098],\n",
    "              [3.110987,2.799093],\n",
    "              [1.345243,3.455634],\n",
    "              [3.434645,4.980835],\n",
    "              [2.984534,2.385423],\n",
    "              [6.923839,5.323263],\n",
    "              [5.979824,5.504965],\n",
    "              [8.098498,5.098667],\n",
    "              [7.892098,0.983723],\n",
    "              [9.084339,5.987982]\n",
    "             ]\n",
    "row_data_y = [0,0,0,0,0,1,1,1,1,1]"
   ]
  },
  {
   "cell_type": "code",
   "execution_count": 19,
   "metadata": {},
   "outputs": [],
   "source": [
    "X_train = np.array(row_data_X)\n",
    "y_train = np.array(row_data_y)"
   ]
  },
  {
   "cell_type": "code",
   "execution_count": 20,
   "metadata": {},
   "outputs": [
    {
     "data": {
      "text/plain": [
       "array([[3.390902, 2.339098],\n",
       "       [3.110987, 2.799093],\n",
       "       [1.345243, 3.455634],\n",
       "       [3.434645, 4.980835],\n",
       "       [2.984534, 2.385423],\n",
       "       [6.923839, 5.323263],\n",
       "       [5.979824, 5.504965],\n",
       "       [8.098498, 5.098667],\n",
       "       [7.892098, 0.983723],\n",
       "       [9.084339, 5.987982]])"
      ]
     },
     "execution_count": 20,
     "metadata": {},
     "output_type": "execute_result"
    }
   ],
   "source": [
    "X_train"
   ]
  },
  {
   "cell_type": "code",
   "execution_count": 21,
   "metadata": {},
   "outputs": [
    {
     "data": {
      "text/plain": [
       "array([0, 0, 0, 0, 0, 1, 1, 1, 1, 1])"
      ]
     },
     "execution_count": 21,
     "metadata": {},
     "output_type": "execute_result"
    }
   ],
   "source": [
    "y_train"
   ]
  },
  {
   "cell_type": "code",
   "execution_count": 23,
   "metadata": {},
   "outputs": [
    {
     "data": {
      "image/png": "[encoded data removed]",
      "text/plain": [
       "<Figure size 432x288 with 1 Axes>"
      ]
     },
     "metadata": {
      "needs_background": "light"
     },
     "output_type": "display_data"
    }
   ],
   "source": [
    "# 散点图的绘制\n",
    "plt.scatter(X_train[y_train == 0,0],X_train[y_train == 0,1],color = 'g')\n",
    "plt.scatter(X_train[y_train == 1,0],X_train[y_train == 1,1],color = 'r')\n",
    "plt.show()"
   ]
  },
  {
   "cell_type": "code",
   "execution_count": 30,
   "metadata": {},
   "outputs": [],
   "source": [
    "x = np.array([8.093,4.345])"
   ]
  },
  {
   "cell_type": "code",
   "execution_count": 31,
   "metadata": {},
   "outputs": [
    {
     "data": {
      "image/png": "[encoded data removed]",
      "text/plain": [
       "<Figure size 432x288 with 1 Axes>"
      ]
     },
     "metadata": {
      "needs_background": "light"
     },
     "output_type": "display_data"
    }
   ],
   "source": [
    "\n",
    "plt.scatter(X_train[y_train == 0,0],X_train[y_train == 0,1],color = 'g')\n",
    "plt.scatter(X_train[y_train == 1,0],X_train[y_train == 1,1],color = 'r')\n",
    "plt.scatter(x[0],x[1],color = 'b')\n",
    "plt.show()"
   ]
  },
  {
   "cell_type": "markdown",
   "metadata": {},
   "source": [
    "### KNN的过程\n",
    "\n",
    "使用 **欧拉距离** 作为距离的计算公式\n",
    "![欧拉公式](img/isea2.png)"
   ]
  },
  {
   "cell_type": "code",
   "execution_count": 32,
   "metadata": {},
   "outputs": [
    {
     "data": {
      "text/plain": [
       "[5.112080636610498,\n",
       " 5.216347571320186,\n",
       " 6.806114634136351,\n",
       " 4.701548410178289,\n",
       " 5.4714136100358015,\n",
       " 1.5244461096050592,\n",
       " 2.4106081407398015,\n",
       " 0.753687053685414,\n",
       " 3.3672755581230653,\n",
       " 1.9188910509054442]"
      ]
     },
     "execution_count": 32,
     "metadata": {},
     "output_type": "execute_result"
    }
   ],
   "source": [
    "from math import sqrt\n",
    "distances = []\n",
    "for x_train in X_train:\n",
    "    d = sqrt(np.sum((x_train - x) ** 2))\n",
    "    distances.append(d)\n",
    "distances"
   ]
  },
  {
   "cell_type": "code",
   "execution_count": 33,
   "metadata": {},
   "outputs": [
    {
     "data": {
      "text/plain": [
       "[5.112080636610498,\n",
       " 5.216347571320186,\n",
       " 6.806114634136351,\n",
       " 4.701548410178289,\n",
       " 5.4714136100358015,\n",
       " 1.5244461096050592,\n",
       " 2.4106081407398015,\n",
       " 0.753687053685414,\n",
       " 3.3672755581230653,\n",
       " 1.9188910509054442]"
      ]
     },
     "execution_count": 33,
     "metadata": {},
     "output_type": "execute_result"
    }
   ],
   "source": [
    "# 或者直接使用python中的生成表达式来实现\n",
    "distances = [sqrt(np.sum((x_train - x) ** 2)) for x_train in X_train]\n",
    "distances"
   ]
  },
  {
   "cell_type": "code",
   "execution_count": 34,
   "metadata": {},
   "outputs": [
    {
     "data": {
      "text/plain": [
       "array([7, 5, 9, 6, 8, 3, 0, 1, 4, 2], dtype=int64)"
      ]
     },
     "execution_count": 34,
     "metadata": {},
     "output_type": "execute_result"
    }
   ],
   "source": [
    "# argsort 对数组中的数据进行排序，但是返回的是排序结果的索引值\n",
    "np.argsort(distances)"
   ]
  },
  {
   "cell_type": "code",
   "execution_count": 35,
   "metadata": {},
   "outputs": [],
   "source": [
    "nearest = np.argsort(distances)"
   ]
  },
  {
   "cell_type": "code",
   "execution_count": 36,
   "metadata": {},
   "outputs": [],
   "source": [
    "k = 6\n",
    "# 最近的K个点的y坐标\n",
    "topK_y = [y_train[i] for i in nearest[:k]]"
   ]
  },
  {
   "cell_type": "code",
   "execution_count": 37,
   "metadata": {},
   "outputs": [
    {
     "data": {
      "text/plain": [
       "[1, 1, 1, 1, 1, 0]"
      ]
     },
     "execution_count": 37,
     "metadata": {},
     "output_type": "execute_result"
    }
   ],
   "source": [
    "topK_y"
   ]
  },
  {
   "cell_type": "code",
   "execution_count": 39,
   "metadata": {},
   "outputs": [
    {
     "data": {
      "text/plain": [
       "Counter({1: 5, 0: 1})"
      ]
     },
     "execution_count": 39,
     "metadata": {},
     "output_type": "execute_result"
    }
   ],
   "source": [
    "# 使用counter，来将数组中的元素和该元素出现的次数，做一个K,V映射\n",
    "from collections import Counter\n",
    "Counter(topK_y)"
   ]
  },
  {
   "cell_type": "code",
   "execution_count": 40,
   "metadata": {},
   "outputs": [
    {
     "data": {
      "text/plain": [
       "Counter({1: 5, 0: 1})"
      ]
     },
     "execution_count": 40,
     "metadata": {},
     "output_type": "execute_result"
    }
   ],
   "source": [
    "votes = Counter(topK_y)\n",
    "votes"
   ]
  },
  {
   "cell_type": "code",
   "execution_count": 44,
   "metadata": {},
   "outputs": [
    {
     "data": {
      "text/plain": [
       "1"
      ]
     },
     "execution_count": 44,
     "metadata": {},
     "output_type": "execute_result"
    }
   ],
   "source": [
    "votes.most_common(1)[0][0]"
   ]
  },
  {
   "cell_type": "markdown",
   "metadata": {},
   "source": [
    "> 这里的结果是1，表示预测是恶性肿瘤"
   ]
  },
  {
   "cell_type": "code",
   "execution_count": null,
   "metadata": {},
   "outputs": [],
   "source": []
  }
 ],
 "metadata": {
  "kernelspec": {
   "display_name": "Python 3",
   "language": "python",
   "name": "python3"
  },
  "language_info": {
   "codemirror_mode": {
    "name": "ipython",
    "version": 3
   },
   "file_extension": ".py",
   "mimetype": "text/x-python",
   "name": "python",
   "nbconvert_exporter": "python",
   "pygments_lexer": "ipython3",
   "version": "3.7.0"
  }
 },
 "nbformat": 4,
 "nbformat_minor": 2
}
